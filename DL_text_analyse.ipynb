{
 "cells": [
  {
   "cell_type": "markdown",
   "metadata": {},
   "source": [
    "# 深度学习的文本分类\n",
    "\n",
    "## CNN文本分类"
   ]
  },
  {
   "cell_type": "markdown",
   "metadata": {},
   "source": [
    "读取数据"
   ]
  },
  {
   "cell_type": "code",
   "execution_count": 1,
   "metadata": {},
   "outputs": [],
   "source": [
    "import jieba \n",
    "import pandas as pd\n",
    "\n",
    "df_entertainment = pd.read_csv(r'E:\\Data_sets\\text_ana\\entertainment_news.csv',encoding='utf-8')\n",
    "df_entertainment = df_entertainment.dropna()\n",
    "\n",
    "df_finance = pd.read_csv(r'E:\\Data_sets\\text_ana\\finance_news.csv',encoding='utf-8')\n",
    "df_finance = df_finance.dropna()\n",
    "\n",
    "df_international = pd.read_csv(r'E:\\Data_sets\\text_ana\\international_news.csv',encoding='utf-8')\n",
    "df_international = df_international.dropna()\n",
    "\n",
    "df_technology = pd.read_csv(r'E:\\Data_sets\\text_ana\\technology_news.csv',encoding='utf-8')\n",
    "df_technology = df_technology.dropna()"
   ]
  },
  {
   "cell_type": "code",
   "execution_count": 6,
   "metadata": {},
   "outputs": [],
   "source": [
    "entertainment = df_entertainment.content.values[:20000]\n",
    "finance = df_finance.content.values[:20000]\n",
    "international = df_international.content.values[:20000]\n",
    "technology = df_technology.content.values[:20000]"
   ]
  },
  {
   "cell_type": "code",
   "execution_count": 7,
   "metadata": {},
   "outputs": [],
   "source": [
    "stopwords = pd.read_csv('E:/Data_sets/text_ana/stopwords.txt',\n",
    "                        index_col=False,\n",
    "                        quoting=3,sep=\"\\t\",\n",
    "                        names=['stopword'], \n",
    "                        encoding='utf-8')\n",
    "\n",
    "stopwords=stopwords['stopword'].values"
   ]
  },
  {
   "cell_type": "markdown",
   "metadata": {},
   "source": [
    "数据集"
   ]
  },
  {
   "cell_type": "code",
   "execution_count": 13,
   "metadata": {},
   "outputs": [],
   "source": [
    "def preprocess(content, category):\n",
    "    sentences = []\n",
    "    for line in content:\n",
    "        try:\n",
    "            segs = jieba.lcut(line)   \n",
    "            segs = filter(lambda x:len(x)>1, segs)\n",
    "            segs = filter(lambda x:x not in stopwords, segs)\n",
    "            sentences.append((' '.join(segs),category))\n",
    "        except:\n",
    "            print(line)\n",
    "            continue\n",
    "    return sentences\n",
    "\n",
    "sentences = preprocess(entertainment,'entertainment')\n",
    "sentences = preprocess(finance,'finance')\n",
    "sentences = preprocess(international,'international')\n",
    "sentences = preprocess(technology,'technology')         "
   ]
  },
  {
   "cell_type": "markdown",
   "metadata": {},
   "source": [
    "切分数据集"
   ]
  },
  {
   "cell_type": "code",
   "execution_count": 14,
   "metadata": {},
   "outputs": [],
   "source": [
    "from sklearn.model_selection import train_test_split\n",
    "x, y = zip(*sentences)\n",
    "train_data, test_data, train_target, test_target = train_test_split(x, y, random_state=1123)"
   ]
  },
  {
   "cell_type": "markdown",
   "metadata": {},
   "source": [
    "## 神经网络搭建"
   ]
  },
  {
   "cell_type": "code",
   "execution_count": null,
   "metadata": {},
   "outputs": [],
   "source": []
  }
 ],
 "metadata": {
  "kernelspec": {
   "display_name": "Python 3",
   "language": "python",
   "name": "python3"
  },
  "language_info": {
   "codemirror_mode": {
    "name": "ipython",
    "version": 3
   },
   "file_extension": ".py",
   "mimetype": "text/x-python",
   "name": "python",
   "nbconvert_exporter": "python",
   "pygments_lexer": "ipython3",
   "version": "3.6.5"
  }
 },
 "nbformat": 4,
 "nbformat_minor": 2
}
