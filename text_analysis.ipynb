{
 "cells": [
  {
   "cell_type": "markdown",
   "metadata": {},
   "source": [
    "## 文本分析\n",
    "\n",
    "中文文本分析：将文本分解成粒度更细的词"
   ]
  },
  {
   "cell_type": "markdown",
   "metadata": {},
   "source": [
    "### 关键词提取\n",
    "\n",
    "#### TF-IDF算法 关键词提取\n",
    "\n",
    "```\n",
    "import jieba.analyse\n",
    "\n",
    "jieba.analyse.extract_tags(sentence, topK = 20, withWeight = False, allowPOS=())\n",
    "    sentence:文本\n",
    "    topK:返回几个TF/IDF权重最大的关键词，默认为20\n",
    "    withWeight:是否一并返回关键词权重值，默认为False\n",
    "    allowPOS:仅包括制定词性的词，默认为空\n",
    "```"
   ]
  },
  {
   "cell_type": "code",
   "execution_count": 2,
   "metadata": {},
   "outputs": [
    {
     "data": {
      "text/plain": [
       "array(['\\u3000\\u3000,中新网,1月8日电 综合报道，入冬以来，我国多个地区连续经历了重污染天气过程，多个城市先后启动红色和橙色预警，特别是近日，重污染天气问题引发社会关注。对此，官方密集回应相关热点话题，环保部召开新闻发布会介绍大气污染防治相关问题，国家卫计委解读如何防范雾霾危害，北京市代市长蔡奇与公众座谈，共商治霾良策。',\n",
       "       '\\u3000\\u3000,【极端不利气象条件导致近期京津冀霾天气多发重发】',\n",
       "       '\\u3000\\u3000中国气象局7日举行近期霾天气气象成因媒体通气会，专家介绍，全球气候变暖背景下极端不利的气象条件，导致近期京津冀地区霾天气多发重发。',\n",
       "       ...,\n",
       "       '\\u3000\\u3000赵德明说，广西是中国唯一与东盟陆海相连的省区，与越南山水相连。近年来，广西大力开展桂越青年友好交流活动。至今，中国(广西)国际青年交流学院已成功举办了45期国际青年干部高级研修班，其中包含众多越南青年干部。中越青年频繁的交流交往，进一步增进了彼此的了解与友谊，并涌现出大批优秀中越友谊青年使者。',\n",
       "       '\\u3000\\u3000“这是我第一次来广西，广西的发展速度很快，我希望越南青年此次访桂能学习中国青年创新创业的经验。”裴光辉说，广西具备地缘优势，未来将在促进两国青年交流合作方面发挥重要作用。此次在广西期间，他将率越南青年代表团赴南南铝材、广西大学、南宁中关村等地参观考察，并与广西青年代表一同进行联欢。',\n",
       "       '\\u3000\\u3000他透露，今年下半年，越南广宁省将举办丰富多彩的中越青年友好交流活动，届时将邀请中国青年赴越交流，增进彼此了解。(完)'],\n",
       "      dtype=object)"
      ]
     },
     "execution_count": 2,
     "metadata": {},
     "output_type": "execute_result"
    }
   ],
   "source": [
    "import jieba.analyse as analyse\n",
    "import pandas as pd\n",
    "df = pd.read_csv(r'E:\\Data_sets\\text_ana\\home_news.csv',encoding = 'utf-8')\n",
    "#df.head()\n",
    "df.content.values"
   ]
  },
  {
   "cell_type": "markdown",
   "metadata": {},
   "source": [
    "TF-IDF是Term Frequency-Inverse Document Frequency的缩写，即“词频-逆文本频率”。"
   ]
  },
  {
   "cell_type": "code",
   "execution_count": 6,
   "metadata": {},
   "outputs": [
    {
     "name": "stdout",
     "output_type": "stream",
     "text": [
      "问题 国家 记者 企业 全面 经济 社会 一带 制度 国际 部门 全国 主席 政府 领域 机制 地区 干部 中央 重点\n"
     ]
    }
   ],
   "source": [
    "df = df.dropna()#去掉空行\n",
    "lines = df.content.values\n",
    "content = ''.join(lines)\n",
    "print (' '.join(analyse.extract_tags(content,\n",
    "                                     topK = 20,\n",
    "                                     withWeight = False, \n",
    "                                     allowPOS=('n')))) #权重最高的前20个名词"
   ]
  },
  {
   "cell_type": "markdown",
   "metadata": {},
   "source": [
    "注意：计算时长较长，考虑用分布式计算"
   ]
  },
  {
   "cell_type": "markdown",
   "metadata": {},
   "source": [
    "#### 基于TextRank算法的关键词抽取\n",
    "\n",
    "```\n",
    "jieba.analyse.textrank(sentence, topK=20, withWeight=False, allowPOS=())\n",
    "```"
   ]
  },
  {
   "cell_type": "markdown",
   "metadata": {},
   "source": [
    "TextRank\n",
    "\n",
    "* 将带抽取关键词的文本进行分词\n",
    "* 以固定窗口大小(默认为5)，词之间的共现关系，构建图\n",
    "* 计算图中节点的PageRank，注意是无向带权图"
   ]
  },
  {
   "cell_type": "code",
   "execution_count": 7,
   "metadata": {},
   "outputs": [
    {
     "name": "stdout",
     "output_type": "stream",
     "text": [
      "国家 问题 经济 企业 社会 国际 制度 地区 全国 政府 重点 情况 全面 部门 信息 世界 记者 领域 规定 中央\n"
     ]
    }
   ],
   "source": [
    "import jieba.analyse as analyse\n",
    "import pandas as pd\n",
    "df = pd.read_csv(r'E:\\Data_sets\\text_ana\\home_news.csv',encoding = 'utf-8')\n",
    "df.content.values\n",
    "df = df.dropna()#去掉空行\n",
    "lines = df.content.values\n",
    "content = ''.join(lines)\n",
    "print (' '.join(analyse.textrank(content,\n",
    "                                 topK = 20,\n",
    "                                 withWeight = False, \n",
    "                                 allowPOS=('n')))) #权重最高的前20个名词"
   ]
  },
  {
   "cell_type": "markdown",
   "metadata": {},
   "source": [
    "注意：计算时长比TF-IDF更慢"
   ]
  }
 ],
 "metadata": {
  "kernelspec": {
   "display_name": "Python 3",
   "language": "python",
   "name": "python3"
  },
  "language_info": {
   "codemirror_mode": {
    "name": "ipython",
    "version": 3
   },
   "file_extension": ".py",
   "mimetype": "text/x-python",
   "name": "python",
   "nbconvert_exporter": "python",
   "pygments_lexer": "ipython3",
   "version": "3.6.5"
  }
 },
 "nbformat": 4,
 "nbformat_minor": 2
}
