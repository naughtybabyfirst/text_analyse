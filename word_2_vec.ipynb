{
 "cells": [
  {
   "cell_type": "code",
   "execution_count": 7,
   "metadata": {},
   "outputs": [],
   "source": [
    "import jieba\n",
    "import pandas as pd\n",
    "#import gensim.models\n",
    "\n",
    "#读取数据\n",
    "df_entertainment = pd.read_csv(r'E:\\Data_sets\\text_ana\\entertainment_news.csv',encoding='utf-8')\n",
    "df_entertainment = df_entertainment.dropna()\n",
    "\n",
    "df_finance = pd.read_csv(r'E:\\Data_sets\\text_ana\\finance_news.csv',encoding='utf-8')\n",
    "df_finance = df_finance.dropna()\n",
    "\n",
    "df_international = pd.read_csv(r'E:\\Data_sets\\text_ana\\international_news.csv',encoding='utf-8')\n",
    "df_international = df_international.dropna()\n",
    "\n",
    "df_technology = pd.read_csv(r'E:\\Data_sets\\text_ana\\technology_news.csv',encoding='utf-8')\n",
    "df_technology = df_technology.dropna()\n",
    "\n",
    "\n",
    "entertainment = df_entertainment.content.values[:20000]\n",
    "finance = df_finance.content.values[:20000]\n",
    "international = df_international.content.values[:20000]\n",
    "technology = df_technology.content.values[:20000]\n",
    "\n",
    "#获取停用词\n",
    "stopwords = pd.read_csv('E:/Data_sets/text_ana/stopwords.txt',\n",
    "                        index_col=False,\n",
    "                        quoting=3,sep=\"\\t\",\n",
    "                        names=['stopword'], \n",
    "                        encoding='utf-8')\n",
    "\n",
    "stopwords=stopwords['stopword'].values\n",
    "\n",
    "# 构建数据集\n",
    "\n",
    "def preprocess(content, sentences, category):\n",
    "\n",
    "    for line in content:\n",
    "        try:\n",
    "            segs = jieba.lcut(line)   \n",
    "            segs = filter(lambda x:len(x)>1, segs)\n",
    "            segs = filter(lambda x:x not in stopwords, segs)\n",
    "            sentences.append((' '.join(segs),category))\n",
    "        except Exception as e:\n",
    "            print('Error:'+ str(e))\n",
    "            continue\n",
    "    \n",
    "sentences = []\n",
    "preprocess(entertainment,sentences,'entertainment \\n')\n",
    "preprocess(finance,sentences,'finance \\n')\n",
    "preprocess(international,sentences,'international \\n')\n",
    "preprocess(technology,sentences,'technology \\n') \n"
   ]
  },
  {
   "cell_type": "code",
   "execution_count": 9,
   "metadata": {},
   "outputs": [
    {
     "name": "stdout",
     "output_type": "stream",
     "text": [
      "writing data to fasttext format...\n"
     ]
    },
    {
     "ename": "AttributeError",
     "evalue": "'tuple' object has no attribute 'encode'",
     "output_type": "error",
     "traceback": [
      "\u001b[1;31m---------------------------------------------------------------------------\u001b[0m",
      "\u001b[1;31mAttributeError\u001b[0m                            Traceback (most recent call last)",
      "\u001b[1;32m<ipython-input-9-662d76ccc83a>\u001b[0m in \u001b[0;36m<module>\u001b[1;34m()\u001b[0m\n\u001b[0;32m      3\u001b[0m \u001b[0mout\u001b[0m \u001b[1;33m=\u001b[0m \u001b[0mopen\u001b[0m\u001b[1;33m(\u001b[0m\u001b[1;34mr'E:\\Data_sets\\text_ana\\jieba_train_data.txt'\u001b[0m\u001b[1;33m,\u001b[0m \u001b[1;34m'w'\u001b[0m\u001b[1;33m)\u001b[0m\u001b[1;33m\u001b[0m\u001b[0m\n\u001b[0;32m      4\u001b[0m \u001b[1;32mfor\u001b[0m \u001b[0msentence\u001b[0m \u001b[1;32min\u001b[0m \u001b[0msentences\u001b[0m\u001b[1;33m:\u001b[0m\u001b[1;33m\u001b[0m\u001b[0m\n\u001b[1;32m----> 5\u001b[1;33m     \u001b[0mout\u001b[0m\u001b[1;33m.\u001b[0m\u001b[0mwritelines\u001b[0m\u001b[1;33m(\u001b[0m\u001b[0msentence\u001b[0m\u001b[1;33m.\u001b[0m\u001b[0mencode\u001b[0m\u001b[1;33m(\u001b[0m\u001b[1;34m'utf-8'\u001b[0m\u001b[1;33m)\u001b[0m\u001b[1;33m)\u001b[0m\u001b[1;33m\u001b[0m\u001b[0m\n\u001b[0m\u001b[0;32m      6\u001b[0m \u001b[0mprint\u001b[0m \u001b[1;33m(\u001b[0m\u001b[1;34m\"done!\"\u001b[0m\u001b[1;33m)\u001b[0m\u001b[1;33m\u001b[0m\u001b[0m\n",
      "\u001b[1;31mAttributeError\u001b[0m: 'tuple' object has no attribute 'encode'"
     ]
    }
   ],
   "source": [
    "#存储分词后的文本\n",
    "print (\"writing data to fasttext format...\")\n",
    "out = open(r'E:\\Data_sets\\text_ana\\jieba_train_data_utf.txt', 'w')\n",
    "for sentence in sentences:\n",
    "    out.writelines(sentence)\n",
    "print (\"done!\")"
   ]
  },
  {
   "cell_type": "code",
   "execution_count": 10,
   "metadata": {},
   "outputs": [
    {
     "name": "stderr",
     "output_type": "stream",
     "text": [
      "e:\\ProgramData\\Anaconda3\\lib\\site-packages\\gensim\\utils.py:1212: UserWarning: detected Windows; aliasing chunkize to chunkize_serial\n",
      "  warnings.warn(\"detected Windows; aliasing chunkize to chunkize_serial\")\n"
     ]
    }
   ],
   "source": [
    "from gensim.models import word2vec\n",
    "import time\n",
    "\n",
    "start = time.time()\n",
    "sentences = word2vec.Text8Corpus(r'E:\\Data_sets\\text_ana\\jieba_train_data_utf.txt')\n",
    "model = word2vec.Word2Vec(sentences, size=200)\n"
   ]
  },
  {
   "cell_type": "code",
   "execution_count": 12,
   "metadata": {},
   "outputs": [],
   "source": [
    "model.save(r'E:\\Data_sets\\text_ana\\model_4_category.model')"
   ]
  },
  {
   "cell_type": "code",
   "execution_count": null,
   "metadata": {},
   "outputs": [],
   "source": [
    "y1 = model.similarity(\"演员\", \"艺人\")\n",
    "print (u\"【演员】和【艺人】的相似度为：\", y1)\n",
    "print( \"--------\\n\")\n",
    "\n",
    "y2 = model.most_similar(u\"文化\", topn=10)  # 20个最相关的\n",
    "print (u\"和【文化】最相关的词有：\\n\")\n",
    "for item in y2:\n",
    "    print (item[0], item[1])\n",
    "print( \"--------\\n\")\n",
    "end = time.time()\n",
    "longtime = end - start\n",
    "print('time:'+str(longtime))"
   ]
  },
  {
   "cell_type": "code",
   "execution_count": 11,
   "metadata": {},
   "outputs": [
    {
     "name": "stdout",
     "output_type": "stream",
     "text": [
      "[-0.02318545  1.996315    0.4193802  -0.02195659 -0.76797825  1.0594747\n",
      " -0.3394574   0.11085606  0.15072675 -1.2763917  -0.34576696 -1.4017618\n",
      "  0.84531593 -0.8713156   0.7784314   1.2222066   0.91875255 -0.6041753\n",
      "  1.1965735  -1.5989044  -0.7534652  -0.37765074  0.2197495  -0.69667935\n",
      "  0.4262155  -0.17404935  1.1803404  -0.4003415   0.3359602   0.41447955\n",
      " -0.7867034  -0.01739617  1.1016587  -0.48816445 -0.35163584  0.29101315\n",
      "  0.2848184  -0.8147964  -0.36812815  0.39500913 -1.1306015   0.57234126\n",
      "  0.7934586  -0.3696374  -0.10450167 -0.6866624  -0.40028757  0.2240479\n",
      "  0.622981    0.8222562   0.4475804  -0.20842078 -0.9799339  -0.41255882\n",
      "  0.5236974   0.32575333 -0.82433575 -0.83937436 -0.6828628   1.527693\n",
      " -0.90434074  1.5264957   1.676399    0.93465495 -0.5652007  -0.20510106\n",
      "  0.12314204  1.4915302  -0.08832302  0.35294876  1.5594481   0.47930756\n",
      "  0.05628854 -0.38053226 -0.26284894  0.48248273  0.90786517  0.01174518\n",
      " -0.2292197   1.4295062   0.13337645  0.48342976 -0.6443924   0.24253926\n",
      "  1.0552629   1.3583164  -0.6297584  -0.21089272  0.74511606 -1.1942557\n",
      " -0.07999407  1.3984218  -0.74346316 -0.8203624   0.40943202 -1.2349929\n",
      " -0.17472792 -0.02227654  0.23863368  0.20571242 -0.12882052  0.80162746\n",
      " -0.53820354  2.2665071   0.7592209   0.33759275 -0.3197226  -0.41822058\n",
      "  1.0047882  -0.05310635 -0.2290034   0.01096088 -0.58579385 -1.1517774\n",
      " -0.31673566  0.41556653  0.7550935  -0.12317588 -0.9202622   0.7026204\n",
      " -0.33262572 -1.5911738   0.40650737  1.671854   -1.1357946   0.12508217\n",
      "  0.7221557  -0.6880566   0.88588834  1.222684   -0.33357203  0.32018927\n",
      " -0.64733344 -0.4729723  -0.01384895  0.7044599   0.02870277  1.073986\n",
      " -0.27005628  0.5287438   1.0614386  -0.7258992  -0.85720766  0.2216715\n",
      "  0.0296564  -0.17941272 -1.1908524  -0.24179485  0.19843027  0.25944972\n",
      "  0.23710664 -1.2066799   0.28192583 -0.45030728  0.09576121 -1.3103304\n",
      "  0.5677534  -0.6105682  -1.4646918  -1.7178385  -0.02265925  1.3223393\n",
      " -0.31755903 -0.25784925  1.026016   -0.95580965 -0.8611082  -1.9205176\n",
      " -0.62601924  1.1385252  -0.75258404 -0.9974533  -0.22654383  0.02696437\n",
      "  0.24724093  0.7997011   0.47267044 -1.8715897  -0.76018643 -1.524792\n",
      "  0.42381275 -0.5540988  -0.20002551 -1.4792932   0.00790322  0.24821958\n",
      "  0.20079714 -0.43604472  0.72601694  0.35852697  0.81571746 -0.16715519\n",
      "  0.67104584 -0.2693975   1.4949977  -0.8756972  -0.630474   -0.46945074\n",
      " -0.13193025  0.8697444 ]\n",
      "[-0.10532115  0.6312544   0.00477624 -0.17853306 -0.20615532  0.6612142\n",
      "  0.41683778 -0.07321662  0.13358265 -0.5626411  -0.18337004 -0.6600379\n",
      "  0.22629225  0.05281468  0.08118336  0.57934344  0.7584321  -0.17975838\n",
      "  1.0415837  -0.38684574 -0.42937422 -0.22154689 -0.261891   -0.34504846\n",
      "  0.7227589  -0.1534243   0.85312253 -0.5524752  -0.08633812  0.40344864\n",
      " -0.42654386 -0.23385619  0.76691234  0.03713359 -0.17796303  0.2622814\n",
      " -0.30657655 -0.4709902  -0.4872706  -0.04970313 -0.81883484  0.3122507\n",
      "  0.1395703  -0.1518572   0.03815275 -0.16838102 -0.43694514  0.23227757\n",
      "  0.13712001  0.32401782  0.2125841  -0.49872229 -0.6114542  -0.40584195\n",
      "  0.10024362 -0.20094253 -0.65391904 -0.2554795  -0.05153587  1.3861177\n",
      " -0.694735    0.55215967  0.5192752   0.43592778  0.17774768  0.26158383\n",
      " -0.26013824  0.88012177 -0.03262114  0.12932593  0.8669371   0.31933513\n",
      " -0.538255   -0.478086    0.34472635  0.15096319  0.94394964 -0.01783053\n",
      " -0.1005732   0.69385886 -0.03048666  0.05168539 -0.35198203  0.17769574\n",
      "  0.4806573   0.81252396 -0.3357974  -0.20639308  0.1710229  -0.62570834\n",
      " -0.5202343   0.5754732  -0.5276662  -0.865766    0.27156502 -0.5277838\n",
      " -0.20696321  0.17023994  0.00342044 -0.14857572  0.23188145  1.192123\n",
      " -0.4876979   0.7476178  -0.05631584  0.3318611   0.0386177  -0.05251747\n",
      "  0.5127703   0.02936725 -0.11528685  0.06124905 -0.4353814  -0.83566105\n",
      "  0.53352517 -0.11264859  0.62914133 -0.37935007 -0.77778983  0.25533226\n",
      " -0.03291593 -0.869945    0.09327925  0.80355287  0.02311216 -0.3769725\n",
      "  0.1436275  -0.48625317 -0.17070422  0.455513    0.39263612  0.24618605\n",
      " -0.30982244 -0.855486    0.08150114  0.18356021  0.549522    0.6492884\n",
      "  0.34099928  0.29498625  0.8986629  -0.38196915  0.260654    0.46470886\n",
      "  0.13415295 -0.56736827 -0.55724895  0.34319544  0.10495073  0.54186887\n",
      "  0.05707971 -0.3071753  -0.11282527 -0.04287453  0.19678733 -0.2709421\n",
      "  0.20380065 -0.11762846 -0.27161348 -0.45599687 -0.37258598  0.5512664\n",
      "  0.05514383  0.20185268  0.7735572  -0.76990205 -0.8102616  -0.97262675\n",
      " -0.32685688  0.25364086 -0.24773473 -0.25700587 -0.00581539 -0.340524\n",
      " -0.02045429  0.4564217   0.45084447 -0.6865175  -0.33292285 -0.7730841\n",
      " -0.19205375  0.13888706 -0.53205365 -1.0584177   0.03514897  0.15866001\n",
      "  0.3609985  -0.09508697  0.6001726   0.38204935  0.87122005  0.01627442\n",
      "  0.4438904  -0.26647425  0.47227004 -0.3986238  -0.5337119  -0.38254082\n",
      "  0.1204458   0.54372543]\n"
     ]
    },
    {
     "name": "stderr",
     "output_type": "stream",
     "text": [
      "e:\\ProgramData\\Anaconda3\\lib\\site-packages\\ipykernel_launcher.py:1: DeprecationWarning: Call to deprecated `__getitem__` (Method will be removed in 4.0.0, use self.wv.__getitem__() instead).\n",
      "  \"\"\"Entry point for launching an IPython kernel.\n",
      "e:\\ProgramData\\Anaconda3\\lib\\site-packages\\ipykernel_launcher.py:2: DeprecationWarning: Call to deprecated `__getitem__` (Method will be removed in 4.0.0, use self.wv.__getitem__() instead).\n",
      "  \n"
     ]
    }
   ],
   "source": [
    "print(model['文化'])\n",
    "print(model['民族'])"
   ]
  },
  {
   "cell_type": "code",
   "execution_count": 13,
   "metadata": {},
   "outputs": [
    {
     "name": "stdout",
     "output_type": "stream",
     "text": [
      "[ 0.16127165  0.39220533 -0.04687322  0.039317    0.09338374  0.09213549\n",
      " -0.04504228  0.14511368 -0.08846826  0.06789774  0.10697971 -0.13340048\n",
      " -0.01933361 -0.24191163  0.389248    0.09077071 -0.03753123 -0.30634537\n",
      "  0.13435255  0.14353406  0.1013594  -0.02648274  0.12282815 -0.08286421\n",
      "  0.23315276 -0.30900487  0.01124361 -0.01134252  0.07614579 -0.05847272\n",
      " -0.06820015  0.2348807   0.1860176  -0.09032806 -0.0949584   0.01815382\n",
      " -0.17148603 -0.07937173 -0.16792649  0.0141248  -0.1714079   0.18612218\n",
      "  0.16957077 -0.07831277 -0.086407    0.13363518 -0.27038166  0.04739612\n",
      "  0.38627172  0.01380146 -0.0510929  -0.14545281 -0.1886301  -0.28617528\n",
      "  0.01950856  0.08751247 -0.01345387  0.16215621 -0.11719862  0.0805821\n",
      " -0.16807331 -0.07451923  0.2560734   0.13797042  0.21244304  0.03288181\n",
      "  0.0594049   0.04531492  0.07363679 -0.14833127  0.10500935  0.05625402\n",
      " -0.1747562  -0.23919192  0.04556113 -0.05782533  0.09259712 -0.18795295\n",
      "  0.07984843  0.23845825 -0.09158685  0.03284821 -0.05570736  0.0800266\n",
      "  0.14467609  0.0803235  -0.09368365 -0.10722259  0.12630352 -0.00758492\n",
      " -0.05139203  0.30725408 -0.13061032 -0.37938714 -0.22493227  0.07609709\n",
      "  0.0399451   0.05269963 -0.08640967 -0.07488707  0.01654509  0.13683535\n",
      " -0.1176222  -0.02309878 -0.26241148  0.0892291   0.05687121  0.22772993\n",
      " -0.16860907  0.06840549 -0.30353093  0.08074423 -0.11691996 -0.08859149\n",
      " -0.11940555 -0.17647436 -0.0591757  -0.25470546 -0.126378   -0.17512612\n",
      "  0.1681291   0.01900265  0.24581708 -0.11196514  0.07610321 -0.24898319\n",
      " -0.03335439 -0.10552178 -0.19913226 -0.11081818  0.04500855 -0.09454896\n",
      " -0.06087651 -0.09145266  0.08967213  0.07868703  0.11425456  0.06248718\n",
      "  0.17216969 -0.11061881 -0.14733793  0.18346982  0.3701776   0.15434036\n",
      "  0.05788695  0.09418827 -0.05011128  0.2479047  -0.2257503   0.20426524\n",
      " -0.1944578  -0.19005816  0.12860535  0.20587614 -0.13805239  0.1252477\n",
      " -0.01882676  0.03135958 -0.11806895 -0.26617336 -0.09061381  0.05548469\n",
      " -0.3522698   0.1846869   0.19931123 -0.3719002  -0.08304937  0.0368324\n",
      " -0.06560091  0.2940819   0.06351177  0.05085251  0.16047315 -0.29403955\n",
      " -0.08557953 -0.06788816  0.08344126 -0.06165269 -0.04618087 -0.07246323\n",
      " -0.28540748  0.12747     0.14243361  0.03071836 -0.0490647   0.00784865\n",
      "  0.2356852  -0.00513617  0.07262189  0.07703469  0.19306841  0.10811952\n",
      "  0.38575318  0.23666826  0.09347448 -0.04419711 -0.0820394  -0.06343296\n",
      "  0.03695591  0.18577737]\n"
     ]
    },
    {
     "name": "stderr",
     "output_type": "stream",
     "text": [
      "e:\\ProgramData\\Anaconda3\\lib\\site-packages\\ipykernel_launcher.py:1: DeprecationWarning: Call to deprecated `__getitem__` (Method will be removed in 4.0.0, use self.wv.__getitem__() instead).\n",
      "  \"\"\"Entry point for launching an IPython kernel.\n"
     ]
    }
   ],
   "source": [
    "print(model['finance'])"
   ]
  },
  {
   "cell_type": "code",
   "execution_count": 16,
   "metadata": {},
   "outputs": [
    {
     "name": "stderr",
     "output_type": "stream",
     "text": [
      "e:\\ProgramData\\Anaconda3\\lib\\site-packages\\ipykernel_launcher.py:1: DeprecationWarning: Call to deprecated `most_similar` (Method will be removed in 4.0.0, use self.wv.most_similar() instead).\n",
      "  \"\"\"Entry point for launching an IPython kernel.\n",
      "e:\\ProgramData\\Anaconda3\\lib\\site-packages\\gensim\\matutils.py:737: FutureWarning: Conversion of the second argument of issubdtype from `int` to `np.signedinteger` is deprecated. In future, it will be treated as `np.int32 == np.dtype(int).type`.\n",
      "  if np.issubdtype(vec.dtype, np.int):\n"
     ]
    },
    {
     "data": {
      "text/plain": [
       "[('本报记者finance', 0.9683866500854492),\n",
       " ('钢厂', 0.964439868927002),\n",
       " ('尹力', 0.9637502431869507),\n",
       " ('肝脏', 0.9636836051940918),\n",
       " ('宋宇晟', 0.9631076455116272),\n",
       " ('中交', 0.9624027013778687),\n",
       " ('洪泰', 0.9598788619041443),\n",
       " ('由谁来', 0.9591624736785889),\n",
       " ('科技类', 0.9578837156295776),\n",
       " ('159', 0.9573743343353271)]"
      ]
     },
     "execution_count": 16,
     "metadata": {},
     "output_type": "execute_result"
    }
   ],
   "source": [
    "model.most_similar(u\"finance\", topn=10)"
   ]
  }
 ],
 "metadata": {
  "kernelspec": {
   "display_name": "Python 3",
   "language": "python",
   "name": "python3"
  },
  "language_info": {
   "codemirror_mode": {
    "name": "ipython",
    "version": 3
   },
   "file_extension": ".py",
   "mimetype": "text/x-python",
   "name": "python",
   "nbconvert_exporter": "python",
   "pygments_lexer": "ipython3",
   "version": "3.6.5"
  }
 },
 "nbformat": 4,
 "nbformat_minor": 2
}
